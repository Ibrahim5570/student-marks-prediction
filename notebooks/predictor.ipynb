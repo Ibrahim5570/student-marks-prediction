{
 "cells": [
  {
   "cell_type": "code",
   "execution_count": null,
   "id": "initial_id",
   "metadata": {
    "collapsed": true
   },
   "outputs": [],
   "source": [
    "#Imports & Model Definition\n",
    "import torch\n",
    "import numpy as np\n",
    "import joblib\n",
    "import os\n",
    "\n",
    "class ANNModel(torch.nn.Module):\n",
    "    def __init__(self, input_dim):\n",
    "        super().__init__()\n",
    "        self.model = torch.nn.Sequential(\n",
    "            torch.nn.Linear(input_dim, 64),\n",
    "            torch.nn.ReLU(),\n",
    "            torch.nn.Linear(64, 32),\n",
    "            torch.nn.ReLU(),\n",
    "            torch.nn.Linear(32, 1)\n",
    "        )\n",
    "    def forward(self, x):\n",
    "        return self.model(x)"
   ]
  },
  {
   "metadata": {},
   "cell_type": "code",
   "outputs": [],
   "execution_count": null,
   "source": [
    "#Load Model & Scaler\n",
    "# Load scaler\n",
    "scaler = joblib.load(\"model/scaler.pkl\")\n",
    "\n",
    "# Load model\n",
    "model = ANNModel(input_dim=19)\n",
    "model.load_state_dict(torch.load(\"model/Ann_exam_score_model.pkl\", map_location=torch.device('cpu')))\n",
    "model.eval()\n",
    "print(\"✅ Model and scaler loaded.\")"
   ],
   "id": "44f44a1321b41947"
  },
  {
   "metadata": {},
   "cell_type": "code",
   "outputs": [],
   "execution_count": null,
   "source": [
    "#Mapping Dictionaries\n",
    "lowmed_map = {'Low': 0, 'Medium': 1, 'High': 2}\n",
    "yes_no_map = {'Yes': 1, 'No': 0}\n",
    "school_type_map = {'Public': 0, 'Private': 1}\n",
    "influence_map = {'Positive': 1, 'Negative': -1, 'Neutral': 0}\n",
    "education_map = {'None': 0, 'Primary': 1, 'High School': 2, 'College': 3, 'Postgraduate': 4}\n",
    "distance_map = {'Near': 0, 'Moderate': 1, 'Far': 2}\n",
    "gender_map = {'Female': 1, 'Male': 0}"
   ],
   "id": "30cf8688b45066ad"
  },
  {
   "metadata": {},
   "cell_type": "code",
   "outputs": [],
   "execution_count": null,
   "source": [
    "#User Input-Collection\n",
    "print(\"🎓 Enter student details:\\n\")\n",
    "\n",
    "features = [\n",
    "    (\"Age\", \"float\"),\n",
    "    (\"Hours_Studied\", \"float\"),\n",
    "    (\"Parental_Involvement\", \"cat\", \"Low/Medium/High\"),\n",
    "    (\"Access_to_Resources\", \"cat\", \"Low/Medium/High\"),\n",
    "    (\"Extracurricular_Activities\", \"cat\", \"Yes/No\"),\n",
    "    (\"Sleep_Hours\", \"float\"),\n",
    "    (\"Previous_Scores\", \"float\"),\n",
    "    (\"Motivation_Level\", \"cat\", \"Low/Medium/High\"),\n",
    "    (\"Internet_Access\", \"cat\", \"Yes/No\"),\n",
    "    (\"Tutoring_Sessions\", \"float\"),\n",
    "    (\"Family_Income\", \"cat\", \"Low/Medium/High\"),\n",
    "    (\"Teacher_Quality\", \"cat\", \"Low/Medium/High\"),\n",
    "    (\"School_Type\", \"cat\", \"Public/Private\"),\n",
    "    (\"Peer_Influence\", \"cat\", \"Positive/Negative/Neutral\"),\n",
    "    (\"Physical_Activity\", \"float\"),\n",
    "    (\"Learning_Disabilities\", \"cat\", \"Yes/No\"),\n",
    "    (\"Parental_Education_Level\", \"cat\", \"None/Primary/High School/College/Postgraduate\"),\n",
    "    (\"Distance_from_Home\", \"cat\", \"Near/Moderate/Far\"),\n",
    "    (\"Gender\", \"cat\", \"Male/Female\")\n",
    "]\n",
    "\n",
    "user_input = []\n",
    "\n",
    "for feat_name, feat_type, *options in features:\n",
    "    while True:\n",
    "        if feat_type == \"float\":\n",
    "            val = input(f\"{feat_name}: \")\n",
    "            try:\n",
    "                user_input.append(float(val))\n",
    "                break\n",
    "            except:\n",
    "                print(\"❌ Invalid number. Try again.\")\n",
    "        else:\n",
    "            opt_str = options[0]\n",
    "            val = input(f\"{feat_name} [{opt_str}]: \")\n",
    "            if feat_name == \"Parental_Education_Level\":\n",
    "                mapping = education_map\n",
    "            elif feat_name == \"Distance_from_Home\":\n",
    "                mapping = distance_map\n",
    "            elif feat_name == \"Gender\":\n",
    "                mapping = gender_map\n",
    "            elif feat_name in ['Extracurricular_Activities', 'Internet_Access', 'Learning_Disabilities']:\n",
    "                mapping = yes_no_map\n",
    "            elif feat_name in ['Parental_Involvement', 'Access_to_Resources', 'Family_Income', 'Teacher_Quality']:\n",
    "                mapping = lowmed_map\n",
    "            elif feat_name == 'School_Type':\n",
    "                mapping = school_type_map\n",
    "            elif feat_name == 'Peer_Influence':\n",
    "                mapping = influence_map\n",
    "            else:\n",
    "                mapping = {}\n",
    "\n",
    "            if val in mapping:\n",
    "                user_input.append(mapping[val])\n",
    "                break\n",
    "            else:\n",
    "                print(f\"❌ Invalid input. Choose from: {opt_str}\")"
   ],
   "id": "8fd7b260a089f7e1"
  },
  {
   "metadata": {},
   "cell_type": "code",
   "outputs": [],
   "execution_count": null,
   "source": [
    "#Predict & Print\n",
    "input_array = np.array([user_input], dtype=np.float32)\n",
    "input_scaled = scaler.transform(input_array)\n",
    "input_tensor = torch.tensor(input_scaled, dtype=torch.float32)\n",
    "\n",
    "with torch.no_grad():\n",
    "    pred = model(input_tensor).item()\n",
    "\n",
    "print(f\"\\n🎉 Predicted Exam Score: {pred:.2f}\")"
   ],
   "id": "e343f50555d3119d"
  }
 ],
 "metadata": {
  "kernelspec": {
   "display_name": "Python 3",
   "language": "python",
   "name": "python3"
  },
  "language_info": {
   "codemirror_mode": {
    "name": "ipython",
    "version": 2
   },
   "file_extension": ".py",
   "mimetype": "text/x-python",
   "name": "python",
   "nbconvert_exporter": "python",
   "pygments_lexer": "ipython2",
   "version": "2.7.6"
  }
 },
 "nbformat": 4,
 "nbformat_minor": 5
}
